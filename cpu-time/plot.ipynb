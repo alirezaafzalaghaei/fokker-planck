{
 "cells": [
  {
   "cell_type": "code",
   "execution_count": 1,
   "id": "2fd8b13d-7430-41c3-886f-8deb13439a48",
   "metadata": {
    "execution": {
     "iopub.execute_input": "2024-05-30T06:57:05.802445Z",
     "iopub.status.busy": "2024-05-30T06:57:05.801677Z",
     "iopub.status.idle": "2024-05-30T06:57:06.373218Z",
     "shell.execute_reply": "2024-05-30T06:57:06.372324Z",
     "shell.execute_reply.started": "2024-05-30T06:57:05.802371Z"
    }
   },
   "outputs": [],
   "source": [
    "import glob\n",
    "import os\n",
    "import re\n",
    "\n",
    "import matplotlib as mpl\n",
    "import matplotlib.pyplot as plt\n",
    "import numpy as np\n",
    "import scienceplots\n",
    "from natsort import natsorted\n",
    "\n",
    "plt.style.use(\"science\")\n",
    "mpl.use(\"pgf\")"
   ]
  },
  {
   "cell_type": "code",
   "execution_count": 2,
   "id": "ae0301ea-aa95-4aad-a98f-b56efba5dec8",
   "metadata": {
    "execution": {
     "iopub.execute_input": "2024-05-30T06:57:06.374583Z",
     "iopub.status.busy": "2024-05-30T06:57:06.374274Z",
     "iopub.status.idle": "2024-05-30T06:57:06.378738Z",
     "shell.execute_reply": "2024-05-30T06:57:06.377644Z",
     "shell.execute_reply.started": "2024-05-30T06:57:06.374563Z"
    }
   },
   "outputs": [],
   "source": [
    "plt.rcParams.update(\n",
    "    {\"text.usetex\": False, \"pgf.preamble\": r\"\\usepackage{amssymb} \\usepackage{amsmath}\"}\n",
    ")"
   ]
  },
  {
   "cell_type": "code",
   "execution_count": 3,
   "id": "e79caa65-b5f9-41ce-bd8c-b1fa733b9715",
   "metadata": {
    "execution": {
     "iopub.execute_input": "2024-05-30T06:57:06.381007Z",
     "iopub.status.busy": "2024-05-30T06:57:06.380278Z",
     "iopub.status.idle": "2024-05-30T06:57:06.385883Z",
     "shell.execute_reply": "2024-05-30T06:57:06.385289Z",
     "shell.execute_reply.started": "2024-05-30T06:57:06.380961Z"
    }
   },
   "outputs": [],
   "source": [
    "def extract_matrix_data(file_path):\n",
    "    with open(file_path, \"r\") as file:\n",
    "        content = file.read().replace(\"\\n\", \"\").replace(\"\\\\\", \"\")\n",
    "\n",
    "    # Regular expression to capture the content inside Matrix(...) and the nested lists\n",
    "    pattern = re.compile(r\"Matrix\\(\\d+,\\s*\\d+,\\s*(\\[\\[.*?\\]\\])\", re.DOTALL)\n",
    "\n",
    "    match = pattern.search(content)\n",
    "    if match:\n",
    "        matrix_data = match.group(1)\n",
    "        matrix_data = np.array(eval(match.group(1)))\n",
    "        return matrix_data\n",
    "    else:\n",
    "        raise ValueError(\"Matrix data not found in the file\")"
   ]
  },
  {
   "cell_type": "code",
   "execution_count": 4,
   "id": "1b108bf3-af6a-4ad6-81d1-214d2ebbd7a6",
   "metadata": {
    "execution": {
     "iopub.execute_input": "2024-05-30T06:57:06.387429Z",
     "iopub.status.busy": "2024-05-30T06:57:06.387053Z",
     "iopub.status.idle": "2024-05-30T06:57:06.740181Z",
     "shell.execute_reply": "2024-05-30T06:57:06.739497Z",
     "shell.execute_reply.started": "2024-05-30T06:57:06.387378Z"
    }
   },
   "outputs": [
    {
     "data": {
      "text/plain": [
       "(2, 8, 2)"
      ]
     },
     "execution_count": 4,
     "metadata": {},
     "output_type": "execute_result"
    }
   ],
   "source": [
    "DATA = []\n",
    "for name in [\"ordinal\", \"fractional\"]:\n",
    "    TIMES1 = natsorted(glob.glob(\"runs-%s/times1-*\" % name))\n",
    "    TIMES2 = natsorted(glob.glob(\"runs-%s/times2-*\" % name))\n",
    "    names = np.array(list(map(lambda t: int(t[t.rindex(\"-\") + 1 :]), TIMES1)))\n",
    "\n",
    "    N = []\n",
    "    for times1, times2 in zip(TIMES1, TIMES2):\n",
    "        times1 = extract_matrix_data(times1)\n",
    "        times2 = extract_matrix_data(times2)\n",
    "\n",
    "        mean = times1.mean(axis=0)\n",
    "        for_n_t1 = mean.sum()\n",
    "\n",
    "        mean = times2.mean(axis=0)\n",
    "        for_n_t2 = mean.sum()\n",
    "        N.append((for_n_t1, for_n_t2))\n",
    "    DATA.append(N)\n",
    "DATA = np.array(DATA).astype(float)\n",
    "\n",
    "DATA.shape"
   ]
  },
  {
   "cell_type": "code",
   "execution_count": 5,
   "id": "6a90b1e9-907e-45c3-b9e6-dfe30611a94c",
   "metadata": {
    "execution": {
     "iopub.execute_input": "2024-05-30T06:57:06.741213Z",
     "iopub.status.busy": "2024-05-30T06:57:06.741022Z",
     "iopub.status.idle": "2024-05-30T06:57:09.314983Z",
     "shell.execute_reply": "2024-05-30T06:57:09.313909Z",
     "shell.execute_reply.started": "2024-05-30T06:57:06.741196Z"
    }
   },
   "outputs": [],
   "source": [
    "plt.figure(figsize=(4.5, 3))\n",
    "plt.plot(names, DATA[0, :, 0], label=\"Discretization\")\n",
    "plt.plot(names, DATA[0, :, 1], label=\"Finding weights\")\n",
    "\n",
    "plt.plot(names, DATA[0, :, :].sum(axis=-1), label=\"Total\")\n",
    "plt.xlabel(\"\\# of Time Discretizations\")\n",
    "plt.ylabel(\"Time (Sec.)\")\n",
    "plt.legend()\n",
    "\n",
    "plt.savefig(\"cpu-time-ordinal.pdf\", bbox_inches=\"tight\", pad_inches=0)"
   ]
  },
  {
   "cell_type": "code",
   "execution_count": 6,
   "id": "30cff703-71a0-49bd-9885-67ec91ce985d",
   "metadata": {
    "execution": {
     "iopub.execute_input": "2024-05-30T06:57:09.316457Z",
     "iopub.status.busy": "2024-05-30T06:57:09.316204Z",
     "iopub.status.idle": "2024-05-30T06:57:10.685099Z",
     "shell.execute_reply": "2024-05-30T06:57:10.683721Z",
     "shell.execute_reply.started": "2024-05-30T06:57:09.316431Z"
    }
   },
   "outputs": [],
   "source": [
    "plt.figure(figsize=(4.5, 3))\n",
    "plt.plot(names, DATA[1, :, 0], label=\"Discretization\")\n",
    "plt.plot(names, DATA[1, :, 1], label=\"Finding weights\")\n",
    "\n",
    "plt.plot(names, DATA[1, :, :].sum(axis=-1), label=\"Total\")\n",
    "plt.xlabel(\"\\# of Time Discretizations\")\n",
    "plt.ylabel(\"Time (Sec.)\")\n",
    "plt.legend()\n",
    "\n",
    "plt.savefig(\"cpu-time-fractional.pdf\", bbox_inches=\"tight\", pad_inches=0)"
   ]
  }
 ],
 "metadata": {
  "kernelspec": {
   "display_name": "Python 3 (ipykernel)",
   "language": "python",
   "name": "python3"
  },
  "language_info": {
   "codemirror_mode": {
    "name": "ipython",
    "version": 3
   },
   "file_extension": ".py",
   "mimetype": "text/x-python",
   "name": "python",
   "nbconvert_exporter": "python",
   "pygments_lexer": "ipython3",
   "version": "3.11.5"
  }
 },
 "nbformat": 4,
 "nbformat_minor": 5
}
