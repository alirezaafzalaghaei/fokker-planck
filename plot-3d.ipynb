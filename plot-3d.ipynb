{
 "cells": [
  {
   "cell_type": "code",
   "execution_count": 1,
   "id": "7d0f4d2c-2fe7-4668-97ee-3ba0f3ebdc69",
   "metadata": {
    "execution": {
     "iopub.execute_input": "2024-05-30T06:41:41.341329Z",
     "iopub.status.busy": "2024-05-30T06:41:41.341099Z",
     "iopub.status.idle": "2024-05-30T06:41:42.090069Z",
     "shell.execute_reply": "2024-05-30T06:41:42.089155Z",
     "shell.execute_reply.started": "2024-05-30T06:41:41.341310Z"
    }
   },
   "outputs": [],
   "source": [
    "%matplotlib ipympl"
   ]
  },
  {
   "cell_type": "code",
   "execution_count": 2,
   "id": "3d67ee18-49ac-4292-a270-118df35e338c",
   "metadata": {
    "execution": {
     "iopub.execute_input": "2024-05-30T06:41:42.091143Z",
     "iopub.status.busy": "2024-05-30T06:41:42.090919Z",
     "iopub.status.idle": "2024-05-30T06:41:42.312678Z",
     "shell.execute_reply": "2024-05-30T06:41:42.311345Z",
     "shell.execute_reply.started": "2024-05-30T06:41:42.091127Z"
    }
   },
   "outputs": [],
   "source": [
    "import glob\n",
    "import os\n",
    "import re\n",
    "\n",
    "import matplotlib as mpl\n",
    "import matplotlib.pyplot as plt\n",
    "import numpy as np\n",
    "import scienceplots\n",
    "from mpl_toolkits.mplot3d import Axes3D\n",
    "\n",
    "plt.style.use(\"science\")\n",
    "mpl.use(\"pgf\")"
   ]
  },
  {
   "cell_type": "code",
   "execution_count": 3,
   "id": "6056b1ed-c9cc-4adf-9cda-2bc35997a254",
   "metadata": {
    "execution": {
     "iopub.execute_input": "2024-05-30T06:41:42.315158Z",
     "iopub.status.busy": "2024-05-30T06:41:42.314694Z",
     "iopub.status.idle": "2024-05-30T06:41:42.320736Z",
     "shell.execute_reply": "2024-05-30T06:41:42.319756Z",
     "shell.execute_reply.started": "2024-05-30T06:41:42.315124Z"
    }
   },
   "outputs": [],
   "source": [
    "plt.rcParams.update(\n",
    "    {\"text.usetex\": True, \"pgf.preamble\": r\"\\usepackage{amssymb} \\usepackage{amsmath}\"}\n",
    ")"
   ]
  },
  {
   "cell_type": "code",
   "execution_count": 4,
   "id": "22669803-78ef-4f5b-b547-181eb20580d0",
   "metadata": {
    "execution": {
     "iopub.execute_input": "2024-05-30T06:41:42.321872Z",
     "iopub.status.busy": "2024-05-30T06:41:42.321621Z",
     "iopub.status.idle": "2024-05-30T06:41:42.329631Z",
     "shell.execute_reply": "2024-05-30T06:41:42.327675Z",
     "shell.execute_reply.started": "2024-05-30T06:41:42.321847Z"
    }
   },
   "outputs": [],
   "source": [
    "def extract_matrix_data(file_path):\n",
    "    with open(file_path, \"r\") as file:\n",
    "        content = file.read()\n",
    "\n",
    "    # Regular expression to capture the content inside Matrix(...) and the nested lists\n",
    "    pattern = re.compile(r\"Matrix\\(\\d+,\\s*\\d+,\\s*(\\[\\[.*?\\]\\])\", re.DOTALL)\n",
    "\n",
    "    match = pattern.search(content)\n",
    "    if match:\n",
    "        matrix_data = match.group(1)\n",
    "        matrix_data = np.array(eval(match.group(1).replace(\"\\n\", \"\").replace(\"\\\\\", \"\")))\n",
    "        return matrix_data\n",
    "    else:\n",
    "        raise ValueError(\"Matrix data not found in the file\")"
   ]
  },
  {
   "cell_type": "code",
   "execution_count": 5,
   "id": "280ec346-483b-4490-8b7b-8a7b18aa10a8",
   "metadata": {
    "execution": {
     "iopub.execute_input": "2024-05-30T06:41:42.331398Z",
     "iopub.status.busy": "2024-05-30T06:41:42.331099Z",
     "iopub.status.idle": "2024-05-30T06:42:11.214868Z",
     "shell.execute_reply": "2024-05-30T06:42:11.213738Z",
     "shell.execute_reply.started": "2024-05-30T06:41:42.331373Z"
    }
   },
   "outputs": [],
   "source": [
    "for example in range(1, 4):\n",
    "    example = \"example-%d\" % example\n",
    "\n",
    "    file = \"%s/residual-n1\" % example\n",
    "    if os.path.isfile(file):\n",
    "        matrix = extract_matrix_data(file)[::2, :]\n",
    "\n",
    "        num_rows, num_cols = matrix.shape\n",
    "        x = np.linspace(0, 1, num_cols)\n",
    "        t = np.linspace(0, 1, num_rows)\n",
    "        X, T = np.meshgrid(x, t)\n",
    "\n",
    "        fig = plt.figure(figsize=(6, 7))\n",
    "\n",
    "        ax = fig.add_subplot(111, projection=\"3d\")\n",
    "\n",
    "        ax.plot_surface(X, T, np.abs(matrix), cmap=\"viridis\")\n",
    "\n",
    "        ax.xaxis.pane.fill = False\n",
    "        ax.yaxis.pane.fill = False\n",
    "        ax.zaxis.pane.fill = False\n",
    "\n",
    "        ax.xaxis.pane.set_edgecolor(\"w\")\n",
    "        ax.yaxis.pane.set_edgecolor(\"w\")\n",
    "        ax.zaxis.pane.set_edgecolor(\"w\")\n",
    "        ax.set_yticks([0, 0.5, 1])\n",
    "        ax.set_xlabel(\"$x$\")\n",
    "        ax.set_ylabel(\"$t$\")\n",
    "        ax.set_zlabel(r\"$\\mathfrak{R}(x,t)$\")\n",
    "        ax.view_init(elev=15, azim=-75)\n",
    "        fig.subplots_adjust(left=0, right=1, top=2, bottom=0)\n",
    "        plt.savefig(\n",
    "            \"%s/%s-residual.pdf\" % (example, example), bbox_inches=\"tight\", pad_inches=0\n",
    "        )\n",
    "\n",
    "    file = \"%s/prediction-n1\" % example\n",
    "    if os.path.isfile(file):\n",
    "        matrix = extract_matrix_data(file)[::2, :]\n",
    "        num_rows, num_cols = matrix.shape\n",
    "        x = np.linspace(0, 1, num_cols)\n",
    "        t = np.linspace(0, 1, num_rows)\n",
    "        X, T = np.meshgrid(x, t)\n",
    "\n",
    "        fig = plt.figure(figsize=(6, 7))\n",
    "\n",
    "        ax = fig.add_subplot(111, projection=\"3d\")\n",
    "\n",
    "        ax.plot_surface(X, T, matrix, cmap=\"viridis\")\n",
    "\n",
    "        ax.xaxis.pane.fill = False\n",
    "        ax.yaxis.pane.fill = False\n",
    "        ax.zaxis.pane.fill = False\n",
    "\n",
    "        ax.xaxis.pane.set_edgecolor(\"w\")\n",
    "        ax.yaxis.pane.set_edgecolor(\"w\")\n",
    "        ax.zaxis.pane.set_edgecolor(\"w\")\n",
    "        ax.set_yticks([0, 0.5, 1])\n",
    "        ax.set_xlabel(\"$x$\")\n",
    "        ax.set_ylabel(\"$t$\")\n",
    "        ax.set_zlabel(r\"$\\hat{u}(x,t)$\")\n",
    "        ax.view_init(elev=15, azim=-75)\n",
    "        fig.subplots_adjust(left=0, right=1, top=2, bottom=0)\n",
    "        plt.savefig(\n",
    "            \"%s/%s-prediction.pdf\" % (example, example),\n",
    "            bbox_inches=\"tight\",\n",
    "            pad_inches=0,\n",
    "        )"
   ]
  },
  {
   "cell_type": "code",
   "execution_count": 6,
   "id": "fa4f172a-4027-43af-8492-96571cc8213c",
   "metadata": {
    "execution": {
     "iopub.execute_input": "2024-05-30T06:42:11.216289Z",
     "iopub.status.busy": "2024-05-30T06:42:11.216045Z",
     "iopub.status.idle": "2024-05-30T06:42:50.042771Z",
     "shell.execute_reply": "2024-05-30T06:42:50.041831Z",
     "shell.execute_reply.started": "2024-05-30T06:42:11.216265Z"
    }
   },
   "outputs": [],
   "source": [
    "for example in range(4, 7):\n",
    "    example = \"example-%d\" % example\n",
    "\n",
    "    for file in glob.glob(\"%s/prediction-*\" % example):\n",
    "        matrix = extract_matrix_data(file)\n",
    "        num_rows, num_cols = matrix.shape\n",
    "        x = np.linspace(0, 2, num_cols)\n",
    "        t = np.linspace(0, 1, num_rows)\n",
    "        X, T = np.meshgrid(x, t)\n",
    "\n",
    "        fig = plt.figure(figsize=(6, 7))\n",
    "\n",
    "        ax = fig.add_subplot(111, projection=\"3d\")\n",
    "\n",
    "        ax.plot_surface(X, T, matrix, cmap=\"viridis\")\n",
    "\n",
    "        ax.xaxis.pane.fill = False\n",
    "        ax.yaxis.pane.fill = False\n",
    "        ax.zaxis.pane.fill = False\n",
    "\n",
    "        ax.xaxis.pane.set_edgecolor(\"w\")\n",
    "        ax.yaxis.pane.set_edgecolor(\"w\")\n",
    "        ax.zaxis.pane.set_edgecolor(\"w\")\n",
    "        ax.set_yticks([0, 0.5, 1])\n",
    "        ax.set_xlabel(\"$x$\")\n",
    "        ax.set_ylabel(\"$t$\")\n",
    "        ax.set_zlabel(r\"$\\hat{u}(x,t)$\")\n",
    "        ax.view_init(elev=15, azim=-75)\n",
    "        fig.subplots_adjust(left=0, right=1, top=2, bottom=0)\n",
    "        plt.savefig(\n",
    "            \"%s/%s-prediction-%s.pdf\" % (example, example, file[-7:]),\n",
    "            bbox_inches=\"tight\",\n",
    "            pad_inches=0,\n",
    "        )"
   ]
  }
 ],
 "metadata": {
  "kernelspec": {
   "display_name": "Python 3 (ipykernel)",
   "language": "python",
   "name": "python3"
  },
  "language_info": {
   "codemirror_mode": {
    "name": "ipython",
    "version": 3
   },
   "file_extension": ".py",
   "mimetype": "text/x-python",
   "name": "python",
   "nbconvert_exporter": "python",
   "pygments_lexer": "ipython3",
   "version": "3.11.5"
  }
 },
 "nbformat": 4,
 "nbformat_minor": 5
}
